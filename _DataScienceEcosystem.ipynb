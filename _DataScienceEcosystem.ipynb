{
 "cells": [
  {
   "cell_type": "markdown",
   "id": "24b2d746-ac01-4eb8-921a-a18efdd398f6",
   "metadata": {},
   "source": [
    "# Data Science Tools and Ecosystem\n"
   ]
  },
  {
   "cell_type": "markdown",
   "id": "0d152d6b-1596-4ab5-b785-aecd05739ba4",
   "metadata": {},
   "source": [
    "In this notebook, Data Science Tools and Ecosystem are summarized"
   ]
  },
  {
   "cell_type": "markdown",
   "id": "850cbcb3-844d-487b-8892-7f3e4e659d1a",
   "metadata": {},
   "source": [
    "**Objectives**\n",
    "- Acquire the most up-to-date practical skills and knowledge that data scientists use in their daily roles\n",
    "- Learn the tools, languages, and libraries used by professional data scientists, including Python and SQL\n",
    "- Import and clean datasets, analyze and visualize data, and build machine learning models and pipelines\n",
    "- Apply your new skills to real-world projects and build a data project portfolio that showcases your abilities to employers\n"
   ]
  },
  {
   "cell_type": "markdown",
   "id": "ca72d2ca-b53c-4469-9a4b-62e1ae1e0802",
   "metadata": {},
   "source": [
    "Some of the popular languages that Data Scientists use are:\n",
    "1) Python\n",
    "2) R\n",
    "3) SQL\n",
    "4) Scala\n",
    "5) Julia\n",
    "6) Java\n"
   ]
  },
  {
   "cell_type": "markdown",
   "id": "66ad4d09-2572-4f59-8edd-a17c5214f71b",
   "metadata": {},
   "source": [
    "Some of the commonly libraries used by Data Scientists include:\n",
    "1) Panda\n",
    "2) NumPy\n",
    "3) Keras"
   ]
  },
  {
   "cell_type": "markdown",
   "id": "bf424372-0f90-49d8-82ad-d87b25e051eb",
   "metadata": {},
   "source": [
    "|Data Science Tools|\n",
    "|------------------|\n",
    "|JupyterLab|\n",
    "|VS Code|\n",
    "|RStudio|"
   ]
  },
  {
   "cell_type": "markdown",
   "id": "d5a4f16c-97b0-4fb2-a907-8988b753f912",
   "metadata": {},
   "source": [
    "### Below are a few examples of evaluating arithmetics expressions in Python"
   ]
  },
  {
   "cell_type": "code",
   "execution_count": 18,
   "id": "5043155a-371a-4182-89ab-c918d2fc4b78",
   "metadata": {},
   "outputs": [
    {
     "data": {
      "text/plain": [
       "17"
      ]
     },
     "execution_count": 18,
     "metadata": {},
     "output_type": "execute_result"
    }
   ],
   "source": [
    "#This is a simple arithmetic expression to multiply then add integers\n",
    "(3*4)+5"
   ]
  },
  {
   "cell_type": "code",
   "execution_count": 20,
   "id": "dec582af-aa0c-4b6e-9b10-abe38c8161d6",
   "metadata": {},
   "outputs": [
    {
     "data": {
      "text/plain": [
       "3.3333333333333335"
      ]
     },
     "execution_count": 20,
     "metadata": {},
     "output_type": "execute_result"
    }
   ],
   "source": [
    "# This will convert minutes to hours by dividing by 60\n",
    "200/60\n"
   ]
  },
  {
   "cell_type": "markdown",
   "id": "93dc4f4d-9cc2-48fa-b1a7-cb13660ee77c",
   "metadata": {},
   "source": [
    "## Author\n",
    "Alberto De Biase"
   ]
  },
  {
   "cell_type": "code",
   "execution_count": null,
   "id": "7b682d36-5077-43de-a2da-76adc0eb81b1",
   "metadata": {},
   "outputs": [],
   "source": []
  }
 ],
 "metadata": {
  "kernelspec": {
   "display_name": "Python 3 (ipykernel)",
   "language": "python",
   "name": "python3"
  },
  "language_info": {
   "codemirror_mode": {
    "name": "ipython",
    "version": 3
   },
   "file_extension": ".py",
   "mimetype": "text/x-python",
   "name": "python",
   "nbconvert_exporter": "python",
   "pygments_lexer": "ipython3",
   "version": "3.12.4"
  }
 },
 "nbformat": 4,
 "nbformat_minor": 5
}
